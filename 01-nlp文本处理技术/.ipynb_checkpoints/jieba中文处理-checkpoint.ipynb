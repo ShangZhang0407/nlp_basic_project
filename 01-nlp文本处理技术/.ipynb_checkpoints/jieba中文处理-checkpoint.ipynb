{
 "cells": [
  {
   "cell_type": "markdown",
   "id": "9f5963ba",
   "metadata": {},
   "source": [
    "### 1.基本分词函数与用法"
   ]
  },
  {
   "cell_type": "markdown",
   "id": "703acc43",
   "metadata": {},
   "source": [
    "jieba.cut以及jieba.cut_for_search返回的结构都是一个可迭代的generator，可以使用for循环来获得分词后得到的每一个词语（Unicode）\n",
    "\n",
    "**jieba.cut** 方法接受三个输入参数：\n",
    "* 需要分词的字符串\n",
    "* cut_all参数用来控制是否采用全模式\n",
    "* HMM参数用来控制是否使用HMM模型\n",
    "\n",
    "**jieba.cut_for_search** 方法接受两个参数\n",
    "* 需要分词的字符串\n",
    "* 是否使用HMM模型\n",
    "\n",
    "该方法适合用于搜索引擎构建倒排索引的分词，粒度比较细"
   ]
  },
  {
   "cell_type": "code",
   "execution_count": null,
   "id": "8248bfef",
   "metadata": {},
   "outputs": [],
   "source": [
    "import jieba\n",
    "\n",
    "seg_list = jieba.cut(\"我在学习自然语言处理\", cut_all=True)\n",
    "print(seg_list)\n",
    "print(\"Full Mode: \" + \"/\".join(seg_list))  # 全模式\n",
    "\n",
    "seg_list = jieba.cut(\"我在学习自然语言处理\", cut_all=False)\n",
    "print(\"Default Mode: \" + \"/\".join(seg_list)) # 精确模式\n",
    "\n",
    "seg_list = jieba.cut(\"我在学习自然语言处理\")  # 默认是精确模式\n",
    "print(\", \".join(seg_list))\n",
    "\n",
    "seg_list = jieba.cut_for_search(\"小明硕士毕业于中国科学院计算所，后在哈佛大学深造\")  # 搜索引擎模式\n",
    "print(\", \".join(seg_list))"
   ]
  },
  {
   "cell_type": "markdown",
   "id": "e2e7f437",
   "metadata": {},
   "source": [
    "**jieba.lcut** 以及 **jieba.lcut_for_search** 直接返回 list"
   ]
  },
  {
   "cell_type": "code",
   "execution_count": null,
   "id": "d5e2fa69",
   "metadata": {},
   "outputs": [],
   "source": [
    "result_lcut = jieba.lcut(\"小明硕士毕业于中国科学院计算所，后在哈佛大学深造\")\n",
    "print(result_lcut)\n",
    "print(\" \".join(result_lcut))\n",
    "print(\" \".join(jieba.lcut_for_search(\"小明硕士毕业于中国科学院计算所，后在哈佛大学深造\")))"
   ]
  },
  {
   "cell_type": "markdown",
   "id": "0785aabb",
   "metadata": {},
   "source": [
    "**添加用户自定义词典**\n",
    "\n",
    "很多时候我们需要针对自己的场景进行分词，会有一些领域内的专有词汇。\n",
    "* 1.可以用jieba.load_userdict(file_name)加载用户字典\n",
    "* 2.少量的词汇可以自己用下面方法手动添加：\n",
    "    * 用 add_word(word, freq=None, tag=None) 和 del_word(word) 在程序中动态修改词典\n",
    "    * 用 suggest_freq(segment, tune=True) 可调节单个词语的词频，使其能（或不能）被分出来。"
   ]
  },
  {
   "cell_type": "code",
   "execution_count": null,
   "id": "6ba2ff0f",
   "metadata": {},
   "outputs": [],
   "source": [
    "print('/'.join(jieba.cut('如果放到旧字典中将出错。', HMM=False)))"
   ]
  },
  {
   "cell_type": "code",
   "execution_count": null,
   "id": "f24fba66",
   "metadata": {},
   "outputs": [],
   "source": [
    "# 调整'中', '将'，将'中将'分出来 \n",
    "jieba.suggest_freq(('中', '将'), True)"
   ]
  },
  {
   "cell_type": "code",
   "execution_count": null,
   "id": "e00b0b7c",
   "metadata": {},
   "outputs": [],
   "source": [
    "print('/'.join(jieba.cut('如果放到旧字典中将出错。', HMM=False)))"
   ]
  },
  {
   "cell_type": "markdown",
   "id": "04d77452",
   "metadata": {},
   "source": [
    "### 2.关键词提取"
   ]
  },
  {
   "cell_type": "markdown",
   "id": "227e3dae",
   "metadata": {},
   "source": [
    "**基于 TF-IDF 算法的关键词抽取**\n",
    "\n",
    "import jieba.analyse\n",
    "\n",
    "* jieba.analyse.extract_tags(sentence, topK=20, withWeigth=False,allowPOS=())\n",
    "    * sentence为待提取的文本\n",
    "    * topK为返回几个TF/IDF权重最大的关键词，默认值为20\n",
    "    * withWeight 为是否一并返回关键词权重值，默认值为 False\n",
    "    * allowPOS 仅包括指定词性的词，默认值为空，即不筛选"
   ]
  },
  {
   "cell_type": "code",
   "execution_count": null,
   "id": "9a2e48be",
   "metadata": {},
   "outputs": [],
   "source": [
    "import jieba.analyse as analyse\n",
    "lines = open('./data/NBA.txt', encoding='utf-8').read()\n",
    "print(\"  \".join(analyse.extract_tags(lines, topK=20, withWeight=False, allowPOS=())))"
   ]
  },
  {
   "cell_type": "code",
   "execution_count": null,
   "id": "f96c9601",
   "metadata": {},
   "outputs": [],
   "source": [
    "lines = open('./data/西游记.txt', encoding='utf-8').read()\n",
    "print(\"  \".join(analyse.extract_tags(lines, topK=20, withWeight=False, allowPOS=())))"
   ]
  },
  {
   "cell_type": "markdown",
   "id": "01768581",
   "metadata": {},
   "source": [
    "**关于TF-IDF算法的关键词抽取补充**\n",
    "* 关键词提取所使用逆向文件频率（IDF）文本语料库可以切换成自定义语料库的路径\n",
    "    * 用法： jieba.analyse.set_idf_path(file_name) # file_name为自定义语料库的路径\n",
    "* 关键词提取所使用停止词（Stop Words）文本语料库可以切换成自定义语料库的路径\n",
    "    * 用法： jieba.analyse.set_stop_words(file_name) # file_name为自定义语料库的路径"
   ]
  },
  {
   "cell_type": "markdown",
   "id": "46500e55",
   "metadata": {},
   "source": [
    "**基于TextRank算法的关键词抽取**\n",
    "* jieba.analyse.textrank(sentence, topK=20, withWeight=False, allowPOS=('ns', 'n', 'vn', 'v')) 直接使用，接口相同，注意默认过滤词性。\n",
    "    * ns表示地名、n表示名词、vn表示名动词、v表示动词\n",
    "* jieba.analyse.TextRank() 新建自定义 TextRank 实例\n",
    "\n",
    "基本思想:\n",
    "* 将待抽取关键词的文本进行分词\n",
    "* 以固定窗口大小(默认为5，通过span属性调整)，词之间的共现关系，构建图\n",
    "* 计算图中节点的PageRank，注意是无向带权图"
   ]
  },
  {
   "cell_type": "code",
   "execution_count": null,
   "id": "410accff",
   "metadata": {},
   "outputs": [],
   "source": [
    "import jieba.analyse as analyse\n",
    "lines = open('./data/NBA.txt', encoding='utf-8').read()\n",
    "print(\"  \".join(analyse.textrank(lines, topK=20, withWeight=False, allowPOS=('ns', 'n', 'vn', 'v'))))\n",
    "print(\"---------------------分割线----------------\")\n",
    "print(\"  \".join(analyse.textrank(lines, topK=20, withWeight=False, allowPOS=('ns', 'n'))))"
   ]
  },
  {
   "cell_type": "code",
   "execution_count": null,
   "id": "f49fa55f",
   "metadata": {},
   "outputs": [],
   "source": [
    "lines = open('./data/西游记.txt', encoding='utf-8').read()\n",
    "print(\"  \".join(analyse.textrank(lines, topK=20, withWeight=False, allowPOS=('ns', 'n', 'vn', 'v'))))"
   ]
  },
  {
   "cell_type": "markdown",
   "id": "274da694",
   "metadata": {},
   "source": [
    "### 词性标注\n",
    "* jieba.posseg.POSTokenizer(tokenizer=None) 新建自定义分词器，tokenizer 参数可指定内部使用的 jieba.Tokenizer 分词器。jieba.posseg.dt 为默认词性标注分词器。\n",
    "* 标注句子分词后每个词的词性，采用和 ictclas 兼容的标记法。"
   ]
  },
  {
   "cell_type": "code",
   "execution_count": null,
   "id": "293df188",
   "metadata": {},
   "outputs": [],
   "source": [
    "import jieba.posseg as pseg\n",
    "words = pseg.cut(\"我正在学习自然语言处理\")\n",
    "for word, flag in words:\n",
    "    print('%s %s' % (word, flag))"
   ]
  },
  {
   "cell_type": "markdown",
   "id": "cb9e09f0",
   "metadata": {},
   "source": [
    "### 并行分词\n",
    "原理：将目标文本按行分隔后，把各行文本分配到多个 Python 进程并行分词，然后归并结果，从而获得分词速度的可观提升 基于 python 自带的 multiprocessing 模块，目前暂不支持 Windows\n",
    "用法：\n",
    "    jieba.enable_parallel(4) # 开启并行分词模式，参数为并行进程数\n",
    "    jieba.disable_parallel() # 关闭并行分词模式\n",
    "注意：并行分词仅支持默认分词器 jieba.dt 和 jieba.posseg.dt。"
   ]
  },
  {
   "cell_type": "code",
   "execution_count": null,
   "id": "b63821c8",
   "metadata": {},
   "outputs": [],
   "source": [
    "import sys\n",
    "import time\n",
    "import jieba\n",
    "\n",
    "jieba.enable_parallel()\n",
    "content = open('./data/西游记.txt',\"r\", encoding='utf-8').read()\n",
    "t1 = time.time()\n",
    "words = \"/ \".join(jieba.cut(content))\n",
    "t2 = time.time()\n",
    "tm_cost = t2-t1\n",
    "print('并行分词速度为 %s bytes/second' % (len(content)/tm_cost))\n",
    "\n",
    "jieba.disable_parallel()\n",
    "content = open('./data/西游记.txt',\"r\", encoding='utf-8').read()\n",
    "t1 = time.time()\n",
    "words = \"/ \".join(jieba.cut(content))\n",
    "t2 = time.time()\n",
    "tm_cost = t2-t1\n",
    "print('非并行分词速度为 %s bytes/second' % (len(content)/tm_cost))"
   ]
  },
  {
   "cell_type": "markdown",
   "id": "0722f780",
   "metadata": {},
   "source": [
    "### Tokenize：返回词语在原文的起止位置"
   ]
  },
  {
   "cell_type": "code",
   "execution_count": null,
   "id": "908a861e",
   "metadata": {},
   "outputs": [],
   "source": [
    "print(\"这是默认模式的tokenize\")\n",
    "result = jieba.tokenize('自然语言处理非常有用')\n",
    "for tk in result:\n",
    "    print(\"%s\\t\\t start: %d \\t\\t end:%d\" % (tk[0],tk[1],tk[2]))\n",
    "    \n",
    "print(\"\\n-----------分割线------------\\n\")\n",
    "print(\"这是搜索模式的tokenize\")\n",
    "result = jieba.tokenize('自然语言处理非常有用', mode='search')\n",
    "for tk in result:\n",
    "    print(\"%s\\t\\t start: %d \\t\\t end:%d\" % (tk[0],tk[1],tk[2]))"
   ]
  },
  {
   "cell_type": "code",
   "execution_count": null,
   "id": "c7f9c60e",
   "metadata": {},
   "outputs": [],
   "source": []
  }
 ],
 "metadata": {
  "kernelspec": {
   "display_name": "Python 3 (ipykernel)",
   "language": "python",
   "name": "python3"
  },
  "language_info": {
   "codemirror_mode": {
    "name": "ipython",
    "version": 3
   },
   "file_extension": ".py",
   "mimetype": "text/x-python",
   "name": "python",
   "nbconvert_exporter": "python",
   "pygments_lexer": "ipython3",
   "version": "3.7.13"
  }
 },
 "nbformat": 4,
 "nbformat_minor": 5
}
